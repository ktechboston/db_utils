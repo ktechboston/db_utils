{
 "cells": [
  {
   "cell_type": "code",
   "execution_count": 6,
   "metadata": {
    "collapsed": true
   },
   "outputs": [],
   "source": [
    "from db_utils.sqlite_connect import sqlite_connect\n",
    "\n",
    "db = sqlite_connect('test.db')"
   ]
  },
  {
   "cell_type": "code",
   "execution_count": 7,
   "metadata": {},
   "outputs": [
    {
     "name": "stdout",
     "output_type": "stream",
     "text": [
      "\n",
      "\n",
      "CREATE TABLE IF NOT EXISTS test_users(id int serial, name varchar, email varchar)\n",
      "0.0 minutes \n",
      "\n",
      "\n",
      "\n",
      "\n",
      "INSERT INTO test_users(name, email)\n",
      "VALUES ('Mahe Drysdale', 'mahe@exmple.com')\n",
      "0.0 minutes \n",
      "\n",
      "\n",
      "\n",
      "\n",
      "INSERT INTO test_users(name, email)\n",
      "VALUES ('jeremie azou', 'jeremie@exmple.com')\n",
      "0.0 minutes \n",
      "\n",
      "\n",
      "\n",
      "\n",
      "INSERT INTO test_users(name, email)\n",
      "VALUES ('bryan volpenhein', 'bryan@exmple.com')\n",
      "0.0 minutes \n",
      "\n",
      "\n"
     ]
    },
    {
     "data": {
      "text/plain": [
       "1"
      ]
     },
     "execution_count": 7,
     "metadata": {},
     "output_type": "execute_result"
    }
   ],
   "source": [
    "db.update_db('''\n",
    "CREATE TABLE IF NOT EXISTS test_users(\n",
    "id int serial,\n",
    "name varchar,\n",
    "email varchar\n",
    ")\n",
    "''', pprint=True)\n",
    "\n",
    "db.update_db('''\n",
    "INSERT INTO test_users(name, email) VALUES ('Mahe Drysdale', 'mahe@exmple.com')\n",
    "''', pprint=True)\n",
    "\n",
    "db.update_db('''\n",
    "INSERT INTO test_users(name, email) VALUES ('jeremie azou', 'jeremie@exmple.com')\n",
    "''', pprint=True)\n",
    "\n",
    "\n",
    "db.update_db('''\n",
    "INSERT INTO test_users(name, email) VALUES ('bryan volpenhein', 'bryan@exmple.com')\n",
    "''', pprint=True)\n",
    "\n"
   ]
  },
  {
   "cell_type": "code",
   "execution_count": 8,
   "metadata": {},
   "outputs": [
    {
     "name": "stdout",
     "output_type": "stream",
     "text": [
      "\n",
      "\n",
      "SELECT *\n",
      "FROM test_users\n",
      "0.0 minutes \n",
      "\n",
      "\n"
     ]
    },
    {
     "data": {
      "text/html": [
       "<div>\n",
       "<style>\n",
       "    .dataframe thead tr:only-child th {\n",
       "        text-align: right;\n",
       "    }\n",
       "\n",
       "    .dataframe thead th {\n",
       "        text-align: left;\n",
       "    }\n",
       "\n",
       "    .dataframe tbody tr th {\n",
       "        vertical-align: top;\n",
       "    }\n",
       "</style>\n",
       "<table border=\"1\" class=\"dataframe\">\n",
       "  <thead>\n",
       "    <tr style=\"text-align: right;\">\n",
       "      <th></th>\n",
       "      <th>id</th>\n",
       "      <th>name</th>\n",
       "      <th>email</th>\n",
       "    </tr>\n",
       "  </thead>\n",
       "  <tbody>\n",
       "    <tr>\n",
       "      <th>0</th>\n",
       "      <td>None</td>\n",
       "      <td>Mahe Drysdale</td>\n",
       "      <td>mahe@exmpl.com</td>\n",
       "    </tr>\n",
       "    <tr>\n",
       "      <th>1</th>\n",
       "      <td>None</td>\n",
       "      <td>jeremie azou</td>\n",
       "      <td>jeremie@exmpl.com</td>\n",
       "    </tr>\n",
       "    <tr>\n",
       "      <th>2</th>\n",
       "      <td>None</td>\n",
       "      <td>bryan volpenhein</td>\n",
       "      <td>bryan@exmpl.com</td>\n",
       "    </tr>\n",
       "    <tr>\n",
       "      <th>3</th>\n",
       "      <td>None</td>\n",
       "      <td>Mahe Drysdale</td>\n",
       "      <td>mahe@exmple.com</td>\n",
       "    </tr>\n",
       "    <tr>\n",
       "      <th>4</th>\n",
       "      <td>None</td>\n",
       "      <td>jeremie azou</td>\n",
       "      <td>jeremie@exmple.com</td>\n",
       "    </tr>\n",
       "    <tr>\n",
       "      <th>5</th>\n",
       "      <td>None</td>\n",
       "      <td>bryan volpenhein</td>\n",
       "      <td>bryan@exmple.com</td>\n",
       "    </tr>\n",
       "  </tbody>\n",
       "</table>\n",
       "</div>"
      ],
      "text/plain": [
       "     id              name               email\n",
       "0  None     Mahe Drysdale      mahe@exmpl.com\n",
       "1  None      jeremie azou   jeremie@exmpl.com\n",
       "2  None  bryan volpenhein     bryan@exmpl.com\n",
       "3  None     Mahe Drysdale     mahe@exmple.com\n",
       "4  None      jeremie azou  jeremie@exmple.com\n",
       "5  None  bryan volpenhein    bryan@exmple.com"
      ]
     },
     "execution_count": 8,
     "metadata": {},
     "output_type": "execute_result"
    }
   ],
   "source": [
    "db.get_df_from_query('''\n",
    "SELECT * FROM test_users\n",
    "''', pprint=True)"
   ]
  },
  {
   "cell_type": "code",
   "execution_count": 10,
   "metadata": {},
   "outputs": [
    {
     "name": "stdout",
     "output_type": "stream",
     "text": [
      "Help on sqlite_connect in module db_utils.sqlite_connect object:\n",
      "\n",
      "class sqlite_connect(db_utils.db_connect.db_connect)\n",
      " |  parent python database connection class utilizing\n",
      " |  python database API specification v2.0\n",
      " |  https://www.python.org/dev/peps/pep-0249/#connection-methods\n",
      " |  \n",
      " |  Method resolution order:\n",
      " |      sqlite_connect\n",
      " |      db_utils.db_connect.db_connect\n",
      " |      builtins.object\n",
      " |  \n",
      " |  Methods defined here:\n",
      " |  \n",
      " |  __init__(self, db_path)\n",
      " |      db_path <string> -  supply path to database file, if it doesn't exist \n",
      " |                          a new one will be created.  \n",
      " |      \n",
      " |      ex)\n",
      " |      from db_utils.sqlite_connect import sqlite_connect\n",
      " |      \n",
      " |      db = sqlite_connect('test.db')\n",
      " |  \n",
      " |  connect_to_db(self)\n",
      " |      implemented by child classes returns a database connection\n",
      " |  \n",
      " |  get_df_from_query(self, query, params=(), pprint=False)\n",
      " |      query <string> - sql statement\n",
      " |      params optional <tuple> - user input variables to prevent sql injection\n",
      " |                                sql statement should be formated with question\n",
      " |                                marks where variables should be placed\n",
      " |      \n",
      " |                                e.g. WHERE username = ?\n",
      " |      pprint optional <boolean> -  prints formated sql query and time to execute in minutes\n",
      " |      \n",
      " |      returns a panadas dataframe\n",
      " |  \n",
      " |  update_db(self, query, params=(), pprint=False)\n",
      " |      query <string> - sql statement\n",
      " |      params optional <tuple> - user input variables to prevent sql injection\n",
      " |                                sql statement should be formated with question\n",
      " |                                marks where variables should be placed\n",
      " |      \n",
      " |                                e.g. WHERE username = ?\n",
      " |      pprint optional <boolean> -  prints formated sql query and time to execute in minutes\n",
      " |      \n",
      " |      returns effected row count\n",
      " |  \n",
      " |  ----------------------------------------------------------------------\n",
      " |  Methods inherited from db_utils.db_connect.db_connect:\n",
      " |  \n",
      " |  close_conn(self)\n",
      " |  \n",
      " |  format_sql(self, query)\n",
      " |      returns formated sql query\n",
      " |  \n",
      " |  get_arr_from_query(self, query, params=None, pprint=False)\n",
      " |      query <string> - sql statement\n",
      " |      params optional <tuple> - user input variables to prevent sql injection\n",
      " |                                sql statement should be formated with question\n",
      " |                                marks where variables should be placed\n",
      " |      \n",
      " |                                e.g. WHERE username = %s\n",
      " |      pprint optional <boolean> -  prints formated sql query and time to execute in minutes\n",
      " |      \n",
      " |      returns a list of lists\n",
      " |  \n",
      " |  transaction(self, queries, pprint=False)\n",
      " |      method for creating transcations via psycopg2\n",
      " |      important to use when a rollback must be called if the\n",
      " |      entire series of queries do not successfully complete\n",
      " |      \n",
      " |      queries - list - sql statements\n",
      " |      \n",
      " |      returns list of row counts for each query\n",
      " |  \n",
      " |  ----------------------------------------------------------------------\n",
      " |  Data descriptors inherited from db_utils.db_connect.db_connect:\n",
      " |  \n",
      " |  __dict__\n",
      " |      dictionary for instance variables (if defined)\n",
      " |  \n",
      " |  __weakref__\n",
      " |      list of weak references to the object (if defined)\n",
      "\n"
     ]
    }
   ],
   "source": [
    "help(db)"
   ]
  }
 ],
 "metadata": {
  "kernelspec": {
   "display_name": "Python 3",
   "language": "python",
   "name": "python3"
  },
  "language_info": {
   "codemirror_mode": {
    "name": "ipython",
    "version": 3
   },
   "file_extension": ".py",
   "mimetype": "text/x-python",
   "name": "python",
   "nbconvert_exporter": "python",
   "pygments_lexer": "ipython3",
   "version": "3.5.2"
  }
 },
 "nbformat": 4,
 "nbformat_minor": 2
}
